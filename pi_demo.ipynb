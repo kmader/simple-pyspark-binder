{
 "cells": [
  {
   "cell_type": "code",
   "execution_count": 1,
   "metadata": {},
   "outputs": [],
   "source": [
    "import pyspark\n",
    "import random\n",
    "sc = pyspark.SparkContext(appName=\"Pi\")"
   ]
  },
  {
   "cell_type": "code",
   "execution_count": 2,
   "metadata": {},
   "outputs": [
    {
     "name": "stdout",
     "output_type": "stream",
     "text": [
      "3.148672\n",
      "CPU times: user 14 ms, sys: 10 ms, total: 24 ms\n",
      "Wall time: 2.78 s\n"
     ]
    }
   ],
   "source": [
    "%%time\n",
    "num_samples = 1000000\n",
    "def inside(p):     \n",
    "  x, y = random.random(), random.random()\n",
    "  return x*x + y*y < 1\n",
    "count = sc.parallelize(range(0, num_samples)).filter(inside).count()\n",
    "pi = 4 * count / num_samples\n",
    "print(pi)"
   ]
  },
  {
   "cell_type": "code",
   "execution_count": 3,
   "metadata": {},
   "outputs": [
    {
     "data": {
      "text/html": [
       "<!DOCTYPE html><html>\n",
       "      <head>\n",
       "        <meta http-equiv=\"Content-type\" content=\"text/html; charset=utf-8\"/><link rel=\"stylesheet\" href=\"/static/bootstrap.min.css\" type=\"text/css\"/><link rel=\"stylesheet\" href=\"/static/vis.min.css\" type=\"text/css\"/><link rel=\"stylesheet\" href=\"/static/webui.css\" type=\"text/css\"/><link rel=\"stylesheet\" href=\"/static/timeline-view.css\" type=\"text/css\"/><script src=\"/static/sorttable.js\"></script><script src=\"/static/jquery-1.11.1.min.js\"></script><script src=\"/static/vis.min.js\"></script><script src=\"/static/bootstrap-tooltip.js\"></script><script src=\"/static/initialize-tooltips.js\"></script><script src=\"/static/table.js\"></script><script src=\"/static/additional-metrics.js\"></script><script src=\"/static/timeline-view.js\"></script><script src=\"/static/log-view.js\"></script><script src=\"/static/webui.js\"></script><script>setUIRoot('')</script>\n",
       "        \n",
       "        \n",
       "        <title>PySparkShell - Spark Jobs</title>\n",
       "      </head>\n",
       "      <body>\n",
       "        <div class=\"navbar navbar-static-top\">\n",
       "          <div class=\"navbar-inner\">\n",
       "            <div class=\"brand\">\n",
       "              <a href=\"/\" class=\"brand\">\n",
       "                <img src=\"/static/spark-logo-77x50px-hd.png\"/>\n",
       "                <span class=\"version\">2.3.0</span>\n",
       "              </a>\n",
       "            </div>\n",
       "            <p class=\"navbar-text pull-right\">\n",
       "              <strong title=\"PySparkShell\">PySparkShell</strong> application UI\n",
       "            </p>\n",
       "            <ul class=\"nav\"><li class=\"active\">\n",
       "        <a href=\"/jobs/\">Jobs</a>\n",
       "      </li><li class=\"\">\n",
       "        <a href=\"/stages/\">Stages</a>\n",
       "      </li><li class=\"\">\n",
       "        <a href=\"/storage/\">Storage</a>\n",
       "      </li><li class=\"\">\n",
       "        <a href=\"/environment/\">Environment</a>\n",
       "      </li><li class=\"\">\n",
       "        <a href=\"/executors/\">Executors</a>\n",
       "      </li><li class=\"\">\n",
       "        <a href=\"/SQL/\">SQL</a>\n",
       "      </li></ul>\n",
       "          </div>\n",
       "        </div>\n",
       "        <div class=\"container-fluid\">\n",
       "          <div class=\"row-fluid\">\n",
       "            <div class=\"span12\">\n",
       "              <h3 style=\"vertical-align: bottom; display: inline-block;\">\n",
       "                Spark Jobs\n",
       "                <sup>\n",
       "      (<a data-toggle=\"tooltip\" data-placement=\"bottom\" title=\"A job is triggered by an action, like count() or saveAsTextFile(). Click on a job to see information about the stages of tasks inside it.\">?</a>)\n",
       "    </sup>\n",
       "              </h3>\n",
       "            </div>\n",
       "          </div>\n",
       "          <div>\n",
       "        <ul class=\"unstyled\">\n",
       "          <li>\n",
       "            <strong>User:</strong>\n",
       "            jovyan\n",
       "          </li>\n",
       "          <li>\n",
       "            <strong>Total Uptime:</strong>\n",
       "            10 min\n",
       "          </li>\n",
       "          <li>\n",
       "            <strong>Scheduling Mode: </strong>\n",
       "            FIFO\n",
       "          </li>\n",
       "          \n",
       "          <li id=\"completed-summary\">\n",
       "                <a href=\"#completed\"><strong>Completed Jobs:</strong></a>\n",
       "                1\n",
       "              </li>\n",
       "          \n",
       "        </ul>\n",
       "      </div><span class=\"expand-application-timeline\">\n",
       "      <span class=\"expand-application-timeline-arrow arrow-closed\"></span>\n",
       "      <a data-toggle=\"tooltip\" title=\"Shows when jobs started and ended and when executors joined or left. Drag to scroll.\n",
       "       Click Enable Zooming and use mouse wheel to zoom in/out.\" data-placement=\"right\">\n",
       "        Event Timeline\n",
       "      </a>\n",
       "    </span><div id=\"application-timeline\" class=\"collapsed\">\n",
       "      <div class=\"control-panel\">\n",
       "        <div id=\"application-timeline-zoom-lock\">\n",
       "          <input type=\"checkbox\"></input>\n",
       "          <span>Enable zooming</span>\n",
       "        </div>\n",
       "      </div>\n",
       "    </div><script type=\"text/javascript\">\n",
       "      drawApplicationTimeline(\n",
       "[\n",
       "  {\n",
       "    'id': 'executors',\n",
       "    'content': '<div>Executors</div><div class=\"legend-area\"><svg width=\"150px\" height=\"55px\">      <rect class=\"executor-added-legend\" x=\"5px\" y=\"5px\" width=\"20px\" height=\"15px\" rx=\"2px\" ry=\"2px\"></rect>      <text x=\"35px\" y=\"17px\">Added</text>      <rect class=\"executor-removed-legend\" x=\"5px\" y=\"30px\" width=\"20px\" height=\"15px\" rx=\"2px\" ry=\"2px\"></rect>      <text x=\"35px\" y=\"42px\">Removed</text>    </svg></div>',\n",
       "  },\n",
       "  {\n",
       "    'id': 'jobs',\n",
       "    'content': '<div>Jobs</div><div class=\"legend-area\"><svg width=\"150px\" height=\"85px\">      <rect class=\"succeeded-job-legend\" x=\"5px\" y=\"5px\" width=\"20px\" height=\"15px\" rx=\"2px\" ry=\"2px\"></rect>      <text x=\"35px\" y=\"17px\">Succeeded</text>      <rect class=\"failed-job-legend\" x=\"5px\" y=\"30px\" width=\"20px\" height=\"15px\" rx=\"2px\" ry=\"2px\"></rect>      <text x=\"35px\" y=\"42px\">Failed</text>      <rect class=\"running-job-legend\" x=\"5px\" y=\"55px\" width=\"20px\" height=\"15px\" rx=\"2px\" ry=\"2px\"></rect>      <text x=\"35px\" y=\"67px\">Running</text>    </svg></div>',\n",
       "  }\n",
       "]\n",
       "        ,[\n",
       "{\n",
       "  'className': 'job application-timeline-object succeeded',\n",
       "  'group': 'jobs',\n",
       "  'start': new Date(1524509827989),\n",
       "  'end': new Date(1524509829396),\n",
       "  'content': '<div class=\"application-timeline-content\"' +\n",
       "     'data-html=\"true\" data-placement=\"top\" data-toggle=\"tooltip\"' +\n",
       "     'data-title=\"count at &lt;stdin&gt;:1 (Job 0)<br>' +\n",
       "     'Status: SUCCEEDED<br>' +\n",
       "     'Submitted: 2018/04/23 18:57:07' +\n",
       "     '<br>Completed: 2018/04/23 18:57:09\">' +\n",
       "    'count at &lt;stdin&gt;:1 (Job 0)</div>'\n",
       "}\n",
       "         ,\n",
       "{\n",
       "  'className': 'executor added',\n",
       "  'group': 'executors',\n",
       "  'start': new Date(1524509809089),\n",
       "  'content': '<div class=\"executor-event-content\"' +\n",
       "    'data-toggle=\"tooltip\" data-placement=\"bottom\"' +\n",
       "    'data-title=\"Executor driver<br>' +\n",
       "    'Added at 2018/04/23 18:56:49\"' +\n",
       "    'data-html=\"true\">Executor driver added</div>'\n",
       "}\n",
       "         ], 1524509807524, 0);\n",
       "    </script><h4 id=\"completed\">Completed Jobs (1)</h4><div>\n",
       "        \n",
       "        <table class=\"table table-bordered table-condensed table-striped table-head-clickable table-cell-width-limited\" id=\"completedJob-table\">\n",
       "          <thead><th class=\"\">\n",
       "            <a href=\"/jobs/?&completedJob.sort=Job+Id&completedJob.desc=false&completedJob.pageSize=100#completed\">\n",
       "              Job Id<span>\n",
       "              &nbsp;&#x25BE;\n",
       "            </span>\n",
       "            </a>\n",
       "          </th><th class=\"\">\n",
       "              <a href=\"/jobs/?&completedJob.sort=Description&completedJob.pageSize=100#completed\">\n",
       "                Description\n",
       "              </a>\n",
       "            </th><th class=\"\">\n",
       "              <a href=\"/jobs/?&completedJob.sort=Submitted&completedJob.pageSize=100#completed\">\n",
       "                Submitted\n",
       "              </a>\n",
       "            </th><th class=\"\">\n",
       "              <a href=\"/jobs/?&completedJob.sort=Duration&completedJob.pageSize=100#completed\">\n",
       "                Duration\n",
       "              </a>\n",
       "            </th><th class=\"\">\n",
       "              Stages: Succeeded/Total\n",
       "            </th><th class=\"\">\n",
       "              Tasks (for all stages): Succeeded/Total\n",
       "            </th></thead>\n",
       "          <tbody>\n",
       "            <tr id=\"job-0\">\n",
       "      <td>\n",
       "        0 \n",
       "      </td>\n",
       "      <td>\n",
       "        <span class=\"description-input\">count at &lt;stdin&gt;:1</span> \n",
       "        <a href=\"/jobs/job?id=0\" class=\"name-link\">count at &lt;stdin&gt;:1</a>\n",
       "      </td>\n",
       "      <td>\n",
       "        2018/04/23 18:57:07\n",
       "      </td>\n",
       "      <td>1 s</td>\n",
       "      <td class=\"stage-progress-cell\">\n",
       "        1/1\n",
       "        \n",
       "        \n",
       "      </td>\n",
       "      <td class=\"progress-cell\">\n",
       "        <div class=\"progress\">\n",
       "      <span style=\"text-align:center; position:absolute; width:100%; left:0;\">\n",
       "        32/32\n",
       "        \n",
       "        \n",
       "        \n",
       "        \n",
       "      </span>\n",
       "      <div class=\"bar bar-completed\" style=\"width: 100.0%\"></div>\n",
       "      <div class=\"bar bar-running\" style=\"width: 0.0%\"></div>\n",
       "    </div>\n",
       "      </td>\n",
       "    </tr>\n",
       "          </tbody>\n",
       "        </table>\n",
       "        \n",
       "      </div>\n",
       "        </div>\n",
       "      </body>\n",
       "    </html>"
      ],
      "text/plain": [
       "<IPython.core.display.HTML object>"
      ]
     },
     "execution_count": 3,
     "metadata": {},
     "output_type": "execute_result"
    }
   ],
   "source": [
    "from urllib.request import urlopen\n",
    "from IPython.display import HTML\n",
    "def get_gui_status():\n",
    "    return HTML(urlopen(\"http://localhost:4040\").read().decode())\n",
    "get_gui_status()"
   ]
  },
  {
   "cell_type": "code",
   "execution_count": 4,
   "metadata": {},
   "outputs": [],
   "source": [
    "sc.stop()"
   ]
  },
  {
   "cell_type": "markdown",
   "metadata": {},
   "source": [
    "# Show the GUI\n",
    "There is some strange re-routing going on, but with the nbserverproxy the code below should work to show the status"
   ]
  },
  {
   "cell_type": "code",
   "execution_count": 5,
   "metadata": {},
   "outputs": [
    {
     "name": "stdout",
     "output_type": "stream",
     "text": [
      "https://hub.mybinder.org/user/kmader-simple-pyspark-binder-c6t9qwp3/proxy/4040/\n"
     ]
    },
    {
     "data": {
      "text/html": [
       "<iframe src=\"https://hub.mybinder.org/user/kmader-simple-pyspark-binder-c6t9qwp3/proxy/4040/\" width = \"100%\" height=\"400px\">"
      ],
      "text/plain": [
       "<IPython.core.display.HTML object>"
      ]
     },
     "execution_count": 5,
     "metadata": {},
     "output_type": "execute_result"
    }
   ],
   "source": [
    "from IPython.display import HTML\n",
    "import os\n",
    "port = 4040\n",
    "in_binder ='JUPYTERHUB_SERVICE_PREFIX' in os.environ\n",
    "if in_binder:\n",
    "    base_prefix = '{}proxy/{}/'.format(os.environ['JUPYTERHUB_SERVICE_PREFIX'], port)\n",
    "    url = 'https://hub.mybinder.org{}'.format(base_prefix)\n",
    "else:\n",
    "    url = 'http://localhost:%d' % port\n",
    "print(url)\n",
    "HTML('<iframe src=\"{}\" width = \"100%\" height=\"400px\">'.format(url))"
   ]
  }
 ],
 "metadata": {
  "kernelspec": {
   "display_name": "Python 3",
   "language": "python",
   "name": "python3"
  },
  "language_info": {
   "codemirror_mode": {
    "name": "ipython",
    "version": 3
   },
   "file_extension": ".py",
   "mimetype": "text/x-python",
   "name": "python",
   "nbconvert_exporter": "python",
   "pygments_lexer": "ipython3",
   "version": "3.6.3"
  }
 },
 "nbformat": 4,
 "nbformat_minor": 2
}
